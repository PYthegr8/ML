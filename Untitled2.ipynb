{
  "nbformat": 4,
  "nbformat_minor": 0,
  "metadata": {
    "colab": {
      "provenance": [],
      "authorship_tag": "ABX9TyMaXH63GMqz+lc8+a/Na1Zi",
      "include_colab_link": true
    },
    "kernelspec": {
      "name": "python3",
      "display_name": "Python 3"
    },
    "language_info": {
      "name": "python"
    }
  },
  "cells": [
    {
      "cell_type": "markdown",
      "metadata": {
        "id": "view-in-github",
        "colab_type": "text"
      },
      "source": [
        "<a href=\"https://colab.research.google.com/github/PYthegr8/ML/blob/main/Untitled2.ipynb\" target=\"_parent\"><img src=\"https://colab.research.google.com/assets/colab-badge.svg\" alt=\"Open In Colab\"/></a>"
      ]
    },
    {
      "cell_type": "code",
      "execution_count": null,
      "metadata": {
        "id": "fh1vPcjr_FjZ"
      },
      "outputs": [],
      "source": [
        "# # Install necessary libraries\n",
        "# !pip install pytesseract\n",
        "# !pip install pillow\n",
        "# !pip install beautifulsoup4\n",
        "# !apt-get install tesseract-ocr\n",
        "# !pip install spacy\n",
        "# !python -m spacy download en_core_web_sm\n",
        "\n",
        "# # Import libraries\n",
        "import pytesseract\n",
        "from PIL import Image\n",
        "import requests\n",
        "from bs4 import BeautifulSoup\n",
        "import spacy\n",
        "\n",
        "# Define functions\n",
        "\n",
        "# OCR function\n",
        "def extract_text(image_path):\n",
        "    # Load image\n",
        "    image = Image.open(image_path)\n",
        "    # Use Tesseract to extract text\n",
        "    text = pytesseract.image_to_string(image)\n",
        "    return text\n",
        "\n",
        "# Web scraping function\n",
        "def scrape_dosage_info(medication_name):\n",
        "    url = f\"https://www.examplemedicalsite.com/search?q={medication_name}\"\n",
        "    response = requests.get(url)\n",
        "    soup = BeautifulSoup(response.content, 'html.parser')\n",
        "    # Extract dosage information (customize based on site structure)\n",
        "    dosage_info = soup.find('div', class_='dosage-info').text\n",
        "    return dosage_info\n",
        "\n",
        "# NLP function\n",
        "nlp = spacy.load(\"en_core_web_sm\")\n",
        "\n",
        "def extract_entities(text):\n",
        "    doc = nlp(text)\n",
        "    entities = {ent.label_: ent.text for ent in doc.ents}\n",
        "    return entities\n",
        "\n",
        "# Main function to combine steps\n",
        "def get_dosage_recommendation(image_path):\n",
        "    # Step 1: Extract text from image\n",
        "    text = extract_text(image_path)\n",
        "\n",
        "    # Step 2: Extract entities using NLP\n",
        "    entities = extract_entities(text)\n",
        "\n",
        "    # Step 3: Get medication name from extracted entities\n",
        "    medication_name = entities.get(\"PRODUCT\")\n",
        "\n",
        "    if medication_name:\n",
        "        # Step 4: Scrape web for dosage information\n",
        "        dosage_info = scrape_dosage_info(medication_name)\n",
        "        return dosage_info\n",
        "    else:\n",
        "        return \"Medication name not found in the image.\"\n",
        "\n",
        "# Example usage\n",
        "image_path = '/tylenol.jpeg'\n",
        "dosage_recommendation = get_dosage_recommendation(image_path)\n",
        "print(dosage_recommendation)\n",
        "\n"
      ]
    }
  ]
}